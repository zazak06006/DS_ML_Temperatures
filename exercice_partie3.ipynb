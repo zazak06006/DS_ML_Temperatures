{
 "cells": [
  {
   "cell_type": "code",
   "execution_count": 3,
   "id": "0144f714-76cd-4c4e-b453-ee56087da1e6",
   "metadata": {},
   "outputs": [],
   "source": [
    "from sklearn.model_selection import train_test_split\n",
    "from sklearn.linear_model import LinearRegression\n",
    "from sklearn.metrics import mean_squared_error\n",
    "from sklearn.preprocessing import StandardScaler\n",
    "import pandas as pd"
   ]
  },
  {
   "cell_type": "code",
   "execution_count": 5,
   "id": "1f1af1cb-a63e-444b-91cd-924c5e99b7d6",
   "metadata": {},
   "outputs": [],
   "source": [
    "data = pd.read_csv(\"cleaned_weather_data.csv\")"
   ]
  },
  {
   "cell_type": "code",
   "execution_count": 7,
   "id": "50fe00ac-303d-4807-817b-4d306a265c49",
   "metadata": {},
   "outputs": [],
   "source": [
    "X = data[[\"Precipitation\",\"Humidity\"]]\n",
    "y = data[\"Temperature\"]"
   ]
  },
  {
   "cell_type": "markdown",
   "id": "5d365cc2-6c1c-4bad-8312-6b3346c0cde1",
   "metadata": {},
   "source": [
    "Regression lineaire"
   ]
  },
  {
   "cell_type": "code",
   "execution_count": 9,
   "id": "e345ac38-c2a3-4d3d-9557-4f0f64f40106",
   "metadata": {},
   "outputs": [
    {
     "data": {
      "text/plain": [
       "array([[-0.42141137,  1.08411319],\n",
       "       [-0.42141137, -0.64003525],\n",
       "       [-0.42141137, -0.33282335],\n",
       "       ...,\n",
       "       [ 0.72372823,  0.21263453],\n",
       "       [-0.42141137, -0.29520556],\n",
       "       [-0.42141137, -0.47702485]])"
      ]
     },
     "execution_count": 9,
     "metadata": {},
     "output_type": "execute_result"
    }
   ],
   "source": [
    "scaler = StandardScaler()\n",
    "normalized_data = scaler.fit_transform(X)\n",
    "normalized_data"
   ]
  },
  {
   "cell_type": "code",
   "execution_count": 11,
   "id": "f5650fd8-28a8-445e-978a-5cc8d5fd1a2b",
   "metadata": {},
   "outputs": [],
   "source": [
    "X_train , X_test , y_train , y_test = train_test_split(X,y,test_size=42,random_state=42)"
   ]
  },
  {
   "cell_type": "code",
   "execution_count": 13,
   "id": "e57534da-86f8-4579-90c2-49eada18aa43",
   "metadata": {},
   "outputs": [
    {
     "name": "stdout",
     "output_type": "stream",
     "text": [
      "RMSE :  45.705449099410984\n"
     ]
    }
   ],
   "source": [
    "model = LinearRegression()\n",
    "model.fit(X_train,y_train)\n",
    "\n",
    "y_pred = model.predict(X_test)\n",
    "rmse = mean_squared_error(y_test,y_pred)\n",
    "print(\"RMSE : \",rmse)"
   ]
  },
  {
   "cell_type": "markdown",
   "id": "a152f4f6-8b0a-4405-9877-33dd5d52e969",
   "metadata": {},
   "source": [
    "Arbres de décisions"
   ]
  },
  {
   "cell_type": "code",
   "execution_count": 49,
   "id": "609b7e6a-8997-48ab-8273-667dee3bfcbc",
   "metadata": {},
   "outputs": [],
   "source": [
    "from sklearn.tree import DecisionTreeRegressor\n",
    "from sklearn.metrics import r2_score"
   ]
  },
  {
   "cell_type": "code",
   "execution_count": 51,
   "id": "a1c88898-2c08-42db-b7a5-754aaa4c8f27",
   "metadata": {},
   "outputs": [
    {
     "name": "stdout",
     "output_type": "stream",
     "text": [
      "RMSE :  48.59185487839644\n",
      "R2 score :  0.5391917397021826\n"
     ]
    }
   ],
   "source": [
    "tree_model = DecisionTreeRegressor(max_depth=4,random_state=42)\n",
    "tree_model.fit(X_train,y_train)\n",
    "y_pred_tree = tree_model.predict(X_test)\n",
    "rmse_tree = mean_squared_error(y_test,y_pred_tree)\n",
    "r2score_tree = r2_score(y_test,y_pred_tree)\n",
    "print(\"RMSE : \",rmse_tree)\n",
    "print(\"R2 score : \",r2score_tree)"
   ]
  },
  {
   "cell_type": "markdown",
   "id": "d8df43be-e6f8-4d4e-b860-b9d6cac28ce9",
   "metadata": {},
   "source": [
    "Clustering"
   ]
  },
  {
   "cell_type": "code",
   "execution_count": 59,
   "id": "fb812352-cd62-4836-9571-d4c869f699ab",
   "metadata": {},
   "outputs": [],
   "source": [
    "from sklearn.cluster import KMeans"
   ]
  },
  {
   "cell_type": "code",
   "execution_count": 110,
   "id": "bd4d9a3a-fc68-485c-b85d-c9e7525cc772",
   "metadata": {},
   "outputs": [],
   "source": [
    "kmeans_model = KMeans(n_clusters = 3)\n",
    "kmeans_model.fit(X_train)\n",
    "y_pred_kmeans = kmeans_model.predict(X_test)"
   ]
  },
  {
   "cell_type": "code",
   "execution_count": 112,
   "id": "767907f9-48b9-4040-8ef2-4d5a8b57f638",
   "metadata": {},
   "outputs": [],
   "source": [
    "import seaborn as sns"
   ]
  },
  {
   "cell_type": "code",
   "execution_count": 136,
   "id": "bab3ffb9-1421-4374-91c2-acc9bd7bf072",
   "metadata": {},
   "outputs": [
    {
     "data": {
      "text/plain": [
       "<Axes: xlabel='Precipitation', ylabel='Humidity'>"
      ]
     },
     "execution_count": 136,
     "metadata": {},
     "output_type": "execute_result"
    },
    {
     "data": {
      "image/png": "[encoded data removed]",
      "text/plain": [
       "<Figure size 640x480 with 1 Axes>"
      ]
     },
     "metadata": {},
     "output_type": "display_data"
    }
   ],
   "source": [
    "sns.scatterplot(\n",
    "    x=X_test['Precipitation'],  # First feature of X_test\n",
    "    y=X_test['Humidity'],  # Second feature of X_test\n",
    "    hue=y_pred_kmeans,  # Predicted cluster labels\n",
    "    palette=\"viridis\",  # Color palette\n",
    "    legend=\"full\"\n",
    ")"
   ]
  }
 ],
 "metadata": {
  "kernelspec": {
   "display_name": "Python 3 (ipykernel)",
   "language": "python",
   "name": "python3"
  },
  "language_info": {
   "codemirror_mode": {
    "name": "ipython",
    "version": 3
   },
   "file_extension": ".py",
   "mimetype": "text/x-python",
   "name": "python",
   "nbconvert_exporter": "python",
   "pygments_lexer": "ipython3",
   "version": "3.12.7"
  }
 },
 "nbformat": 4,
 "nbformat_minor": 5
}
