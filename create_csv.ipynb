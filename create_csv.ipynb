{
 "cells": [
  {
   "cell_type": "code",
   "execution_count": 1,
   "id": "9202e6b4-42e5-44e5-a668-894956dadd34",
   "metadata": {},
   "outputs": [
    {
     "name": "stdout",
     "output_type": "stream",
     "text": [
      "Dataset météo avec 1000 lignes généré et sauvegardé dans 'weather_data_1000.csv'.\n"
     ]
    },
    {
     "name": "stderr",
     "output_type": "stream",
     "text": [
      "/var/folders/nr/kg_81r7s6xx8bljxwt3qxnjh0000gn/T/ipykernel_32872/3922654872.py:8: FutureWarning: 'H' is deprecated and will be removed in a future version, please use 'h' instead.\n",
      "  dates = pd.date_range(start=\"2023-01-01\", end=\"2023-12-31\", freq=\"H\")  # Observations horaires\n"
     ]
    }
   ],
   "source": [
    "import pandas as pd\n",
    "import numpy as np\n",
    "\n",
    "# Fixer le nombre total de lignes\n",
    "num_rows = 1000\n",
    "\n",
    "# Générer des dates aléatoires sur une année (2023)\n",
    "dates = pd.date_range(start=\"2023-01-01\", end=\"2023-12-31\", freq=\"H\")  # Observations horaires\n",
    "random_dates = np.random.choice(dates, num_rows, replace=True)  # Sélection aléatoire parmi ces dates\n",
    "\n",
    "# Générer des données météorologiques aléatoires\n",
    "np.random.seed(42)  # Pour des résultats reproductibles\n",
    "\n",
    "# Températures en °C (variation avec bruit)\n",
    "temperature = np.round(10 + 15 * np.sin(2 * np.pi * pd.to_datetime(random_dates).dayofyear / 365) + \n",
    "                        np.random.normal(0, 3, num_rows), 1)\n",
    "\n",
    "# Précipitations en mm (valeurs discrètes, majorité des jours secs)\n",
    "precipitation = np.random.choice([0, 0, 5, 10, 15, 20], size=num_rows, p=[0.6, 0.2, 0.1, 0.05, 0.03, 0.02])\n",
    "\n",
    "# Humidité en % (variation saisonnière avec bruit)\n",
    "humidity = np.round(np.clip(50 + 20 * np.sin(2 * np.pi * pd.to_datetime(random_dates).dayofyear / 365) + \n",
    "                            np.random.normal(0, 10, num_rows), 30, 100), 1)\n",
    "\n",
    "# Coordonnées géographiques fictives\n",
    "latitude = np.random.uniform(-90, 90, num_rows)\n",
    "longitude = np.random.uniform(-180, 180, num_rows)\n",
    "\n",
    "# Création du DataFrame\n",
    "weather_data = pd.DataFrame({\n",
    "    \"Date\": random_dates,\n",
    "    \"Temperature\": temperature,\n",
    "    \"Precipitation\": precipitation,\n",
    "    \"Humidity\": humidity,\n",
    "    \"Latitude\": latitude,\n",
    "    \"Longitude\": longitude\n",
    "})\n",
    "\n",
    "# Ajouter des colonnes dérivées\n",
    "weather_data[\"Temperature_F\"] = weather_data[\"Temperature\"] * 9/5 + 32  # Conversion en Fahrenheit\n",
    "weather_data[\"Is_Hot\"] = (weather_data[\"Temperature\"] > 25).astype(int)  # Indicateur binaire pour journées chaudes\n",
    "\n",
    "# Trier les données par date\n",
    "weather_data = weather_data.sort_values(by=\"Date\").reset_index(drop=True)\n",
    "\n",
    "# Enregistrer dans un fichier CSV\n",
    "weather_data.to_csv(\"weather_data_1000.csv\", index=False)\n",
    "\n",
    "print(\"Dataset météo avec 1000 lignes généré et sauvegardé dans 'weather_data_1000.csv'.\")"
   ]
  },
  {
   "cell_type": "code",
   "execution_count": null,
   "id": "366aa465-83e6-4228-8704-11553f0377e4",
   "metadata": {},
   "outputs": [],
   "source": []
  }
 ],
 "metadata": {
  "kernelspec": {
   "display_name": "Python 3 (ipykernel)",
   "language": "python",
   "name": "python3"
  },
  "language_info": {
   "codemirror_mode": {
    "name": "ipython",
    "version": 3
   },
   "file_extension": ".py",
   "mimetype": "text/x-python",
   "name": "python",
   "nbconvert_exporter": "python",
   "pygments_lexer": "ipython3",
   "version": "3.12.7"
  }
 },
 "nbformat": 4,
 "nbformat_minor": 5
}
